{
 "cells": [
  {
   "cell_type": "markdown",
   "id": "d7f424ac",
   "metadata": {},
   "source": [
    "# 🚀 SpaceX Falcon 9 first stage Landing Prediction"
   ]
  },
  {
   "cell_type": "markdown",
   "id": "bc665d09",
   "metadata": {},
   "source": [
    "## 1. Introduction"
   ]
  },
  {
   "cell_type": "markdown",
   "id": "c44ca111",
   "metadata": {},
   "source": [
    "The goal of this project is to **predict whether the Falcon 9 first stage will land successfully**.\n",
    "\n",
    "Falcon 9 is a **reusable rocket** developed by the company SpaceX. It consists of two main parts (stages):\n",
    "\n",
    "- **First stage** is responsible for the initial launch and pushing the rocket upwards into the sky\n",
    "- Second stage activates after the first stage separates and is in charge of placing the payload into orbit\n",
    "\n",
    "The key part is that the **first stage must land back on Earth** so it can be reused. \n",
    "SpaceX advertises a single Falcon 9 rocket launch at a cost of $62M, while other providers can charge upwards of $165M. A big part of the cost savings comes from being able to reuse the first stage.\n",
    "\n",
    "If we can figure out what factors influence a successful landing, we can build a model to predict it — which helps with planning, saving money, and improving future missions.\n",
    "\n",
    "As part of the IBM course, I completed labs on collecting data from the [SpaceX API](\"https://api.spacexdata.com/v4/launches/past\") and a [Wikipedia article](\"https://en.wikipedia.org/wiki/List_of_Falcon_9_and_Falcon_Heavy_launches\") on Falcon 9 launches. This notebook skips that part and uses the prepared `space-data.csv` file as the main data source."
   ]
  },
  {
   "cell_type": "markdown",
   "id": "d809214b",
   "metadata": {},
   "source": [
    "## 2. Importing the libraries"
   ]
  },
  {
   "cell_type": "markdown",
   "id": "ded7e54a",
   "metadata": {},
   "source": [
    "We begin by importing the necessary libraries that will help us analyze the data and build the prediction model:\n",
    "- `pandas` for data manipulation and cleaning\n",
    "- `numpy` for numerical operations\n",
    "- `matplotlib` and `seaborn` for exploratory data analysis (EDA) and visualization\n",
    "- `scikit-learn` which provides implemented machine learning algorithms and tools"
   ]
  },
  {
   "cell_type": "code",
   "execution_count": null,
   "id": "f61decd8",
   "metadata": {},
   "outputs": [],
   "source": [
    "import pandas as pd\n",
    "import numpy as np\n",
    "import matplotlib.pyplot as plt\n",
    "import seaborn as sns\n",
    "\n",
    "# Scikit-learn modules:\n",
    "# Preprocessing allows us to standarsize our data\n",
    "from sklearn import preprocessing\n",
    "# Allows us to split our data into training and testing data\n",
    "from sklearn.model_selection import train_test_split\n",
    "# Allows us to test parameters of classification algorithms and find the best one\n",
    "from sklearn.model_selection import GridSearchCV\n",
    "# Logistic Regression classification algorithm\n",
    "from sklearn.linear_model import LogisticRegression\n",
    "# Support Vector Machine classification algorithm\n",
    "from sklearn.svm import SVC\n",
    "# Decision Tree classification algorithm\n",
    "from sklearn.tree import DecisionTreeClassifier\n",
    "# K Nearest Neighbors classification algorithm\n",
    "from sklearn.neighbors import KNeighborsClassifier"
   ]
  }
 ],
 "metadata": {
  "kernelspec": {
   "display_name": "Python 3",
   "language": "python",
   "name": "python3"
  },
  "language_info": {
   "codemirror_mode": {
    "name": "ipython",
    "version": 3
   },
   "file_extension": ".py",
   "mimetype": "text/x-python",
   "name": "python",
   "nbconvert_exporter": "python",
   "pygments_lexer": "ipython3",
   "version": "3.12.1"
  }
 },
 "nbformat": 4,
 "nbformat_minor": 5
}
